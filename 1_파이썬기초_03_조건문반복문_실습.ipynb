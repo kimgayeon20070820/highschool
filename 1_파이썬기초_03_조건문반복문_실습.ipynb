{
  "cells": [
    {
      "cell_type": "markdown",
      "metadata": {
        "id": "view-in-github",
        "colab_type": "text"
      },
      "source": [
        "<a href=\"https://colab.research.google.com/github/kimgayeon20070820/highschool/blob/main/1_%ED%8C%8C%EC%9D%B4%EC%8D%AC%EA%B8%B0%EC%B4%88_03_%EC%A1%B0%EA%B1%B4%EB%AC%B8%EB%B0%98%EB%B3%B5%EB%AC%B8_%EC%8B%A4%EC%8A%B5.ipynb\" target=\"_parent\"><img src=\"https://colab.research.google.com/assets/colab-badge.svg\" alt=\"Open In Colab\"/></a>"
      ]
    },
    {
      "cell_type": "markdown",
      "id": "25f81d8c",
      "metadata": {
        "id": "25f81d8c"
      },
      "source": [
        "# 파이썬 기초 다지기"
      ]
    },
    {
      "cell_type": "markdown",
      "id": "3f3da3bd",
      "metadata": {
        "id": "3f3da3bd"
      },
      "source": [
        "## 3- 조건문과 반복문\n",
        "데이터와 처리의 흐름을 제어하는 조건문과 반목문"
      ]
    },
    {
      "cell_type": "markdown",
      "id": "0c52a67e",
      "metadata": {
        "id": "0c52a67e"
      },
      "source": [
        "----------------------------------"
      ]
    },
    {
      "cell_type": "markdown",
      "id": "aee8f2e8",
      "metadata": {
        "id": "aee8f2e8"
      },
      "source": [
        "## 3-1.if 조건문"
      ]
    },
    {
      "cell_type": "markdown",
      "id": "e89f3546",
      "metadata": {
        "id": "e89f3546"
      },
      "source": [
        "### 조건문: if"
      ]
    },
    {
      "cell_type": "code",
      "execution_count": 7,
      "id": "4f161d86",
      "metadata": {
        "id": "4f161d86",
        "colab": {
          "base_uri": "https://localhost:8080/"
        },
        "outputId": "24f46ff7-a04b-4aa9-a831-dca3d362a719"
      },
      "outputs": [
        {
          "output_type": "stream",
          "name": "stdout",
          "text": [
            " 99는 100보다 작군요!\n"
          ]
        }
      ],
      "source": [
        "a = 99\n",
        "if a < 100:\n",
        "  print(f' {a}는 100보다 작군요!')"
      ]
    },
    {
      "cell_type": "markdown",
      "id": "cb89ea65",
      "metadata": {
        "id": "cb89ea65"
      },
      "source": [
        "### 조건문: if ~ else"
      ]
    },
    {
      "cell_type": "code",
      "execution_count": 9,
      "id": "6eca2413",
      "metadata": {
        "id": "6eca2413",
        "colab": {
          "base_uri": "https://localhost:8080/"
        },
        "outputId": "a0292a76-07ef-4077-b67f-5c9e4be2efb1"
      },
      "outputs": [
        {
          "output_type": "stream",
          "name": "stdout",
          "text": [
            "234는 100과 같거나 크군요!\n"
          ]
        }
      ],
      "source": [
        "a = 234\n",
        "if a < 100:\n",
        "  print(f' {a}는 100보다 작군요!')\n",
        "else:\n",
        "  print(f'{a}는 100과 같거나 크군요!')"
      ]
    },
    {
      "cell_type": "markdown",
      "id": "13b404bd",
      "metadata": {
        "id": "13b404bd"
      },
      "source": [
        "### 조건문 : 중첩if"
      ]
    },
    {
      "cell_type": "code",
      "execution_count": 21,
      "id": "9575f530",
      "metadata": {
        "id": "9575f530",
        "colab": {
          "base_uri": "https://localhost:8080/"
        },
        "outputId": "c6690ed1-ce0e-4773-d2be-a7a08efcc3b1"
      },
      "outputs": [
        {
          "output_type": "stream",
          "name": "stdout",
          "text": [
            "22는 100고 작거나 같군요\n"
          ]
        }
      ],
      "source": [
        "a = 22\n",
        "if a > 100:\n",
        "  if a > 200:\n",
        "    print(f'{a}는 20보다 크군요')\n",
        "  elif a == 200:\n",
        "    print(f'{a}는 200보다 같군요')\n",
        "  else:\n",
        "     print(f'{a}는 200과 같군요')\n",
        "elif a == 100:\n",
        "  print(f'{a}는 100과 같군요')\n",
        "else:\n",
        "  print(f'{a}는 100과 작거나 같군요')"
      ]
    },
    {
      "cell_type": "markdown",
      "id": "349dec8b",
      "metadata": {
        "id": "349dec8b"
      },
      "source": [
        "### [실습문제] 짝수/홀수 판별하기"
      ]
    },
    {
      "cell_type": "code",
      "execution_count": 31,
      "id": "de48c13d",
      "metadata": {
        "id": "de48c13d",
        "colab": {
          "base_uri": "https://localhost:8080/"
        },
        "outputId": "7e53c237-d957-43da-df00-e245bcdbbd93"
      },
      "outputs": [
        {
          "output_type": "stream",
          "name": "stdout",
          "text": [
            "숫자를 입력해 주세요:88\n",
            "88는 짝수입니다.\n"
          ]
        }
      ],
      "source": [
        "x = int(input('숫자를 입력해 주세요:'))\n",
        "if x % 2 == 0:\n",
        "    print(f'{x}는 짝수입니다.')\n",
        "else:\n",
        "    print(f'{x}는 홀수입니다.')\n"
      ]
    },
    {
      "cell_type": "markdown",
      "id": "30919e6b",
      "metadata": {
        "id": "30919e6b"
      },
      "source": [
        "### [실습문제]\n",
        "피타고라스 정리에 의해 직각삼각형의 세 변의 길이에 대한 관계는 아래와 같습니다. 이 정리를 이용하여 세 변의 길이를 입력 받은 삼각형이 직각삼각형인지 아닌지 판별하는 프로그램을 만들어 보세요.\n"
      ]
    },
    {
      "cell_type": "code",
      "execution_count": 34,
      "id": "f6e6ca29",
      "metadata": {
        "scrolled": false,
        "id": "f6e6ca29",
        "colab": {
          "base_uri": "https://localhost:8080/"
        },
        "outputId": "34003dcb-7561-48b3-c0f8-fed3880ec3c2"
      },
      "outputs": [
        {
          "output_type": "stream",
          "name": "stdout",
          "text": [
            "변 a의 길이: 3\n",
            "변 b의 길이: 4\n",
            "변 c의 길이: 5\n",
            "------------------------------\n",
            "직각삼각형입니다.\n"
          ]
        }
      ],
      "source": [
        "# 1. 세 변의 길이 입력 받기\n",
        "a = int(input('변 a의 길이: '))\n",
        "b = int(input('변 b의 길이: '))\n",
        "c = int(input('변 c의 길이: '))\n",
        "\n",
        "print('-' * 30)  # 분리 선\n",
        "\n",
        "# 2. 직각삼각형 판별하기\n",
        "if (a**2 + b**2) == c**2:\n",
        "  print(f'직각삼각형입니다.')\n",
        "else:\n",
        "  print(f'직각삼각형이 아닙니다.')"
      ]
    },
    {
      "cell_type": "markdown",
      "id": "862598a5",
      "metadata": {
        "id": "862598a5"
      },
      "source": [
        "### [실습문제]\n",
        "아래 조건을 만족하는 커피 자동주문 머신을 만들어보세요.<br><br>\n",
        "[커피 자동주문 머신]<br>\n",
        "친구들과 현금 커피 자동주문 머신 앞에서\n",
        " - 아메리카노 2잔과 카페라테 2잔 카푸치노 1잔을 주문하였다.\n",
        " - 아메리카노 한잔에 2500원이고\n",
        " - 카페라테는 한잔에 3000원\n",
        " - 카푸치노는 한잔에 3000원이다.\n",
        "커피 종류와 잔 수를 결정한 후 현금 15000원을 투입하고 잔돈을 1000원 받았다."
      ]
    },
    {
      "cell_type": "code",
      "execution_count": 42,
      "id": "0d6035c2",
      "metadata": {
        "id": "0d6035c2",
        "colab": {
          "base_uri": "https://localhost:8080/"
        },
        "outputId": "af468a7c-700b-4f72-c468-46ec809f9ce6"
      },
      "outputs": [
        {
          "output_type": "stream",
          "name": "stdout",
          "text": [
            "[커피 자동주문 머신 메뉴]\n",
            "------------------------------\n",
            "-아메리카노는 2500원\n",
            "-카레라떼는 3000원\n",
            "-카푸치노는 3000원\n",
            "입니다. 원하시는 커피종류와 잔수를 입력하세요.\n",
            "------------------------------\n",
            "아메리카노 몇잔?1\n",
            "카페라떼 몇잔?0\n",
            "카푸치노 몇잔?0\n",
            "지불할 총 금액은 2500입니다.\n",
            "돈을 넣어주세요~45\n",
            "입력한 금액이 부족합니다. 2455를 넣어주세요.\n"
          ]
        }
      ],
      "source": [
        "menu = '''[커피 자동주문 머신 메뉴]\n",
        "------------------------------\n",
        "-아메리카노는 2500원\n",
        "-카레라떼는 3000원\n",
        "-카푸치노는 3000원\n",
        "입니다. 원하시는 커피종류와 잔수를 입력하세요.\n",
        "------------------------------'''\n",
        "print(menu)\n",
        "coffee1 = int(input(\"아메리카노 몇잔?: \"))\n",
        "coffee2 = int(input(\"카페라떼 몇잔?: \"))\n",
        "coffee3 = int(input(\"카푸치노 몇잔?: \"))\n",
        "\n",
        "total = coffee1*2500 + coffee2*3000 + coffee3*3000\n",
        "print(f'지불할 총 금액은 {total}원 입니다.')\n",
        "money = int(input(\"돈을 넣어주세요~\"))\n",
        "if money<total:\n",
        "  print(f'입력한 금액이 부족합니다. {total-money}를 넣어주세요.')\n",
        "else:\n",
        "  print(f'거스름돈은 {money-total}입니다. 감사합니다.')"
      ]
    },
    {
      "cell_type": "markdown",
      "id": "67412428",
      "metadata": {
        "id": "67412428"
      },
      "source": [
        "## 3-2.반복문"
      ]
    },
    {
      "cell_type": "markdown",
      "id": "44197774",
      "metadata": {
        "id": "44197774"
      },
      "source": [
        "### 반복문: for 반복문"
      ]
    },
    {
      "cell_type": "code",
      "execution_count": 46,
      "id": "9f69ecc4",
      "metadata": {
        "scrolled": true,
        "id": "9f69ecc4",
        "colab": {
          "base_uri": "https://localhost:8080/"
        },
        "outputId": "7e66dcc3-07ac-437a-eb66-3c12c8ee375c"
      },
      "outputs": [
        {
          "output_type": "stream",
          "name": "stdout",
          "text": [
            "p\n",
            "y\n",
            "t\n",
            "h\n",
            "o\n",
            "n\n"
          ]
        }
      ],
      "source": [
        "\n",
        "for 변수 in 'python':     # 문자열을 이용한 반복문\n",
        "  print(변수)"
      ]
    },
    {
      "cell_type": "code",
      "source": [
        "fruits = ['apple', 'orange', 'tomato']    #for i in ['apple', 'orange', 'tomato'](도 가능, 2번째 줄에 작성)\n",
        "for i in fruits:   #리스트를 이용한 반복문\n",
        "  print(f'내가 좋아하는 과일은 {i}입니다.')"
      ],
      "metadata": {
        "colab": {
          "base_uri": "https://localhost:8080/"
        },
        "id": "wJ1Ul1XI2gPQ",
        "outputId": "ee65a9b4-3983-4b37-fcc2-4453394589d8"
      },
      "id": "wJ1Ul1XI2gPQ",
      "execution_count": 52,
      "outputs": [
        {
          "output_type": "stream",
          "name": "stdout",
          "text": [
            "내가 좋아하는 과일은 apple입니다.\n",
            "내가 좋아하는 과일은 orange입니다.\n",
            "내가 좋아하는 과일은 tomato입니다.\n"
          ]
        }
      ]
    },
    {
      "cell_type": "code",
      "source": [
        "for i in range(0, 3, 2):  #range()함수 이용한 반복문\n",
        "  print(i)"
      ],
      "metadata": {
        "colab": {
          "base_uri": "https://localhost:8080/"
        },
        "id": "VseV8dsr3Nsb",
        "outputId": "b2b2d9eb-7963-4846-beec-cdb0663fdac5"
      },
      "id": "VseV8dsr3Nsb",
      "execution_count": 54,
      "outputs": [
        {
          "output_type": "stream",
          "name": "stdout",
          "text": [
            "0\n",
            "2\n"
          ]
        }
      ]
    },
    {
      "cell_type": "code",
      "source": [
        "age = int(input('나이 : '))\n",
        "if age <= 7:\n",
        "  print('미취학 아동입니다.')\n",
        "elif age <= 13:\n",
        "  print('초등학생입니다.')\n",
        "elif age <= 16:\n",
        "  print('중학생입니다.')\n",
        "elif age <= 19:\n",
        "  print('고등학생입니다.')\n",
        "else:\n",
        "  print( '일반성인 혹은 대학생입니다.')\n",
        "\n",
        "print(f'당신은 {age}살입니다.')"
      ],
      "metadata": {
        "colab": {
          "base_uri": "https://localhost:8080/"
        },
        "id": "RyECVMddyUBf",
        "outputId": "747718cf-32d6-4f8c-be90-eeb7cc9b4aa6"
      },
      "id": "RyECVMddyUBf",
      "execution_count": 45,
      "outputs": [
        {
          "output_type": "stream",
          "name": "stdout",
          "text": [
            "나이 : 17\n",
            "고등학생입니다.\n",
            "당신은 17살입니다.\n"
          ]
        }
      ]
    },
    {
      "cell_type": "markdown",
      "id": "8288e636",
      "metadata": {
        "id": "8288e636"
      },
      "source": [
        "### [실습문제]\n",
        "키보드로 양의 정수(n)을 입력 받아 1~n까지의 합을 구하는 프로그램을 만들어 보세요."
      ]
    },
    {
      "cell_type": "code",
      "execution_count": 61,
      "id": "d6774150",
      "metadata": {
        "id": "d6774150",
        "colab": {
          "base_uri": "https://localhost:8080/"
        },
        "outputId": "f04f8b8d-51eb-44c0-bf29-5803a22fb088"
      },
      "outputs": [
        {
          "output_type": "stream",
          "name": "stdout",
          "text": [
            "양의 정수를 입력하세요: 10\n",
            "i=1, total = 1\n",
            "i=2, total = 3\n",
            "i=3, total = 6\n",
            "i=4, total = 10\n",
            "i=5, total = 15\n",
            "i=6, total = 21\n",
            "i=7, total = 28\n",
            "i=8, total = 36\n",
            "i=9, total = 45\n",
            "i=10, total = 55\n",
            "1부터 10까지 총 합은  55입니다.\n"
          ]
        }
      ],
      "source": [
        "# 1. 숫자 N을 입력하세요.\n",
        "N = int(input('양의 정수를 입력하세요: '))\n",
        "# 2. 1~N까지 합계를 구하세요.\n",
        "total = 0\n",
        "for i in range(1, N+1, 1):\n",
        "  total = total + i\n",
        "  print(f'i={i}, total = {total}')\n",
        "print(f'1부터 {N}까지 총 합은  {total}입니다.')"
      ]
    },
    {
      "cell_type": "markdown",
      "id": "aae06acb",
      "metadata": {
        "id": "aae06acb"
      },
      "source": [
        "### [실습문제]\n",
        "키보드로 양의 정수(n)을 입력 받아 1~n까지의 합을 구할 때 짝수를 제외하고 합을 구하는 프로그램을 만들어 보세요."
      ]
    },
    {
      "cell_type": "code",
      "execution_count": 70,
      "id": "c87285cf",
      "metadata": {
        "id": "c87285cf",
        "colab": {
          "base_uri": "https://localhost:8080/"
        },
        "outputId": "2bebe953-3aab-4457-d3f1-39d3361e4e91"
      },
      "outputs": [
        {
          "output_type": "stream",
          "name": "stdout",
          "text": [
            "양의 정수를 입력하세요: 10\n",
            "i1, total = 1\n",
            "i2, total = 1\n",
            "i3, total = 4\n",
            "i4, total = 4\n",
            "i5, total = 9\n",
            "i6, total = 9\n",
            "i7, total = 16\n",
            "i8, total = 16\n",
            "i9, total = 25\n",
            "i10, total = 25\n",
            "1부터 10까지 짝수를 제외하고 총 합은  25입니다.\n"
          ]
        }
      ],
      "source": [
        "# 1. 숫자 N을 입력하세요.\n",
        "N = int(input('양의 정수를 입력하세요: '))\n",
        "# 2. 1~N까지 짝수를 제외하고 합계를 구하세요.\n",
        "total = 0\n",
        "for i in range(1, N+1, 1):\n",
        "  if i%2 != 0:    #짝수가 아니라면\n",
        "    total = total + i\n",
        "  print(f'i{i}, total = {total}')\n",
        "print(f'1부터 {N}까지 짝수를 제외하고 총 합은  {total}입니다.')"
      ]
    },
    {
      "cell_type": "code",
      "source": [
        "# 1. 숫자 N을 입력하세요.\n",
        "N = int(input('양의 정수를 입력하세요: '))\n",
        "# 2. 1~N까지 짝수를 제외하고 합계를 구하세요.\n",
        "total = 0\n",
        "for i in range(1, N+1, 2):\n",
        "  if i%2 != 0:    #짝수가 아니라면\n",
        "    total = total + i\n",
        "  print(f'i{i}, total = {total}')\n",
        "print(f'1부터 {N}까지 짝수를 제외하고 총 합은  {total}입니다.')"
      ],
      "metadata": {
        "colab": {
          "base_uri": "https://localhost:8080/"
        },
        "id": "06-1r1U46h-u",
        "outputId": "4ac4a93a-6ea6-449e-b5f7-e83f5b4ceabd"
      },
      "id": "06-1r1U46h-u",
      "execution_count": 67,
      "outputs": [
        {
          "output_type": "stream",
          "name": "stdout",
          "text": [
            "양의 정수를 입력하세요: 10\n",
            "i1, total = 1\n",
            "i3, total = 4\n",
            "i5, total = 9\n",
            "i7, total = 16\n",
            "i9, total = 25\n",
            "1부터 10까지 짝수를 제외하고 총 합은  25입니다.\n"
          ]
        }
      ]
    },
    {
      "cell_type": "markdown",
      "id": "ac62e6f7",
      "metadata": {
        "id": "ac62e6f7"
      },
      "source": [
        "### 반복문: while 반복문"
      ]
    },
    {
      "cell_type": "code",
      "execution_count": null,
      "id": "f2fb3ce9",
      "metadata": {
        "id": "f2fb3ce9"
      },
      "outputs": [],
      "source": [
        "num1, num2 = 0, 0\n",
        "\n",
        "while True:\n",
        "    num1 = int(input(\"더할 첫 번째 숫자: \"))\n",
        "    if num1 == 0:\n",
        "        break\n",
        "\n",
        "    num2 = int(input(\"더할 두 번째 숫자: \"))\n",
        "\n",
        "    print(f'{num1} + {num2} = {num1 + num2}')\n",
        "\n",
        "print(\"0을 입력해서 반복문을 탈출했습니다.\")"
      ]
    },
    {
      "cell_type": "markdown",
      "id": "02a797a4",
      "metadata": {
        "id": "02a797a4"
      },
      "source": [
        "### [실습문제] 도둑잡기 게임 만들기\n",
        "경찰에 쫓기던 범인이 3개의 방 중에 한 곳에 숨어버렸습니다. 범인은 방문을 열 때마다 무작위로 3개의 방 중 하나의 방으로 이동합니다. 3개의 방 중 하나의 방을 선택했을 때 범인이 있다면 100점, 없을 때 -10점을 부여하고 범인을 잡으면 게임을 종료하는 프로그램을 만들어 보세요."
      ]
    },
    {
      "cell_type": "code",
      "execution_count": null,
      "id": "e08b9dc4",
      "metadata": {
        "id": "e08b9dc4",
        "colab": {
          "base_uri": "https://localhost:8080/"
        },
        "outputId": "268de009-17a4-4cfd-fd3c-ba3d72520b16"
      },
      "outputs": [
        {
          "output_type": "stream",
          "name": "stdout",
          "text": [
            "3\n",
            "도둑이 있는 방은?1\n",
            "1번 방에는 범인이 없습니다.\n",
            "당신의 점수는 -10점 입니다.\n",
            "게임 종료!!!\n",
            "3\n",
            "도둑이 있는 방은?2\n",
            "2번 방에는 범인이 없습니다.\n",
            "당신의 점수는 -20점 입니다.\n",
            "게임 종료!!!\n",
            "2\n",
            "도둑이 있는 방은?3\n",
            "3번 방에는 범인이 없습니다.\n",
            "당신의 점수는 -30점 입니다.\n",
            "게임 종료!!!\n",
            "1\n"
          ]
        }
      ],
      "source": [
        "import random\n",
        "score = 0        #점수 저장\n",
        "\n",
        "while True:\n",
        "  room = random.randint(1,3)      #1번부터 3번까지의 방 임의로 배정\n",
        "  guess = int(input('도둑이 있는 방은?'))\n",
        "  if guess == room:\n",
        "    print('범인 체포!')\n",
        "    score=score+100\n",
        "    break\n",
        "  else:\n",
        "    print(f'{guess}번 방에는 범인이 없습니다.')\n",
        "    score = score-10\n",
        "\n",
        "  print(f'당신의 점수는 {score}점 입니다.')\n",
        "  print('게임 종료!!!')"
      ]
    },
    {
      "cell_type": "code",
      "source": [
        "\n",
        "while True:\n"
      ],
      "metadata": {
        "colab": {
          "base_uri": "https://localhost:8080/",
          "height": 134
        },
        "id": "TDa9hPN3yTam",
        "outputId": "2f9da20d-ab35-4948-8372-acfd7037a3ea"
      },
      "id": "TDa9hPN3yTam",
      "execution_count": 5,
      "outputs": [
        {
          "output_type": "error",
          "ename": "SyntaxError",
          "evalue": "ignored",
          "traceback": [
            "\u001b[0;36m  File \u001b[0;32m\"<ipython-input-5-dffeaa6a6321>\"\u001b[0;36m, line \u001b[0;32m1\u001b[0m\n\u001b[0;31m    while True:\u001b[0m\n\u001b[0m                ^\u001b[0m\n\u001b[0;31mSyntaxError\u001b[0m\u001b[0;31m:\u001b[0m incomplete input\n"
          ]
        }
      ]
    },
    {
      "cell_type": "markdown",
      "id": "0d03701c",
      "metadata": {
        "id": "0d03701c"
      },
      "source": [
        "### [실습문제] 공이 튕긴 횟수 구하기\n",
        "공을 일정 높이에서 떨어뜨리면, 원래 높이의 1/2만큼 튀어 오릅니다. 이를 반복하다가 높이가 0.00001m보다 낮으면 튀어 오르지 않습니다. while문을 이용하여 공이 튀어 오르는 총 횟수를 구하는 프로그램을 만들어 보세요."
      ]
    },
    {
      "cell_type": "code",
      "execution_count": null,
      "id": "1ac5675e",
      "metadata": {
        "scrolled": true,
        "id": "1ac5675e"
      },
      "outputs": [],
      "source": [
        "length = int(input('공의 시작 높이를 입력하세요(미터) : '))\n",
        "meter=length\n",
        "cnt = 0 #공이 튕긴 횟수\n",
        "meter = length   # 공의 현재 위치\n",
        "\n",
        "while True:\n",
        "    cnt = cnt + 1\n",
        "    meter = meter / 2       #meter /= 2\n",
        "    if meter  < 0.00001:\n",
        "            print('공이 멈췄습니다.')\n",
        "            break\n",
        "    print(f'{length}미터 높이에서 떨어뜨린 공이 튕긴 횟수는 {cnt}입니다.')\n"
      ]
    },
    {
      "cell_type": "markdown",
      "id": "ecdb476f",
      "metadata": {
        "id": "ecdb476f"
      },
      "source": [
        "### [실습문제] 커피 자동주문 프로그램 업그레이드\n",
        "앞에서 만들어 본 커피 자동주문 머신 프로그램을 while문을 이용하여 돈을 모두 지불할 때까지 돈을 입력 받도록 프로그램 기능 수정하기"
      ]
    },
    {
      "cell_type": "code",
      "execution_count": null,
      "id": "2ce8fbfc",
      "metadata": {
        "scrolled": true,
        "id": "2ce8fbfc"
      },
      "outputs": [],
      "source": [
        "menu = '''[커피 자동주문 머신 메뉴]\n",
        "------------------------------\n",
        "-아메리카노는 2500원\n",
        "-카레라떼는 3000원\n",
        "-카푸치노는 3000원\n",
        "입니다. 원하시는 커피종류와 잔수를 입력하세요.\n",
        "------------------------------'''\n",
        "print(menu)\n",
        "coffee1 = int(input(\"아메리카노 몇잔?: \"))\n",
        "coffee2 = int(input(\"카페라떼 몇잔?: \"))\n",
        "coffee3 = int(input(\"카푸치노 몇잔?: \"))\n",
        "\n",
        "total = coffee1*2500 + coffee2*3000 + coffee3*3000\n",
        "print(f'지불할 총 금액은 {total}원 입니다.')\n",
        "money = int(input(\"돈을 넣어주세요~\"))\n",
        "\n",
        "while True:\n",
        "    print('-'*30)\n",
        "    money = int(input(f'[입력할 금핵:{total}]을 넣어 주세요: '))\n",
        "    change = money-total    #잔돈\n",
        "    if change >= 0:\n",
        "        print(f'거스름 돈은 {change}입니다.')\n",
        "        break\n",
        "    else:\n",
        "       print(f'금액이 부족합니다. 돈을 {abs(change)} 만큼 더 넣어주세요.')\n",
        "    total = total-money\n",
        "\n",
        "print('-'*30)\n",
        "print('커피 맛있게 드세요!:)')\n"
      ]
    },
    {
      "cell_type": "markdown",
      "id": "af0e48ab",
      "metadata": {
        "id": "af0e48ab"
      },
      "source": [
        "## 3-3.난수(Random Variable)"
      ]
    },
    {
      "cell_type": "markdown",
      "id": "e34c55ca",
      "metadata": {
        "id": "e34c55ca"
      },
      "source": [
        "### [실습문제] 임의의 두 수 합 구하기\n",
        "1부터 10까지의 범위를 갖는 임의의 두 정수 a, b를 더하여 결과 출력하기"
      ]
    },
    {
      "cell_type": "code",
      "execution_count": null,
      "id": "3c007936",
      "metadata": {
        "id": "3c007936"
      },
      "outputs": [],
      "source": []
    },
    {
      "cell_type": "markdown",
      "id": "357e1bdd",
      "metadata": {
        "id": "357e1bdd"
      },
      "source": [
        "### [실습문제]\n",
        "주사위를 100번 던져서 나오는 숫자를 각 숫자별로 카운트하고 가장 많이 나온 숫자와 그 숫자의 횟수를 출력하시오."
      ]
    },
    {
      "cell_type": "code",
      "execution_count": null,
      "id": "782da2b4",
      "metadata": {
        "id": "782da2b4"
      },
      "outputs": [],
      "source": []
    },
    {
      "cell_type": "markdown",
      "id": "45e329e4",
      "metadata": {
        "id": "45e329e4"
      },
      "source": [
        "------------------------"
      ]
    },
    {
      "cell_type": "markdown",
      "id": "66025633",
      "metadata": {
        "id": "66025633"
      },
      "source": [
        "끝"
      ]
    }
  ],
  "metadata": {
    "kernelspec": {
      "display_name": "Python 3 (ipykernel)",
      "language": "python",
      "name": "python3"
    },
    "language_info": {
      "codemirror_mode": {
        "name": "ipython",
        "version": 3
      },
      "file_extension": ".py",
      "mimetype": "text/x-python",
      "name": "python",
      "nbconvert_exporter": "python",
      "pygments_lexer": "ipython3",
      "version": "3.10.9"
    },
    "vscode": {
      "interpreter": {
        "hash": "b41e41bff03a930185ac2cbea60ce521f7c8c2f5401ceb5c30214081f77ab4f5"
      }
    },
    "colab": {
      "provenance": [],
      "include_colab_link": true
    }
  },
  "nbformat": 4,
  "nbformat_minor": 5
}