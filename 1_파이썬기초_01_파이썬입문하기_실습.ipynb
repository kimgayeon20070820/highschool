{
  "cells": [
    {
      "cell_type": "markdown",
      "metadata": {
        "id": "view-in-github",
        "colab_type": "text"
      },
      "source": [
        "<a href=\"https://colab.research.google.com/github/kimgayeon20070820/highschool/blob/main/1_%ED%8C%8C%EC%9D%B4%EC%8D%AC%EA%B8%B0%EC%B4%88_01_%ED%8C%8C%EC%9D%B4%EC%8D%AC%EC%9E%85%EB%AC%B8%ED%95%98%EA%B8%B0_%EC%8B%A4%EC%8A%B5.ipynb\" target=\"_parent\"><img src=\"https://colab.research.google.com/assets/colab-badge.svg\" alt=\"Open In Colab\"/></a>"
      ]
    },
    {
      "cell_type": "markdown",
      "id": "5b39199b",
      "metadata": {
        "id": "5b39199b"
      },
      "source": [
        "# 파이썬 기초 다지기"
      ]
    },
    {
      "cell_type": "markdown",
      "id": "3f3da3bd",
      "metadata": {
        "id": "3f3da3bd"
      },
      "source": [
        "## 1 - 파이썬 입문하기\n",
        "파이썬 소개 및 파이썬 학습환경 만들기"
      ]
    },
    {
      "cell_type": "markdown",
      "id": "b11c5643",
      "metadata": {
        "id": "b11c5643"
      },
      "source": [
        "## 1-1.파이썬 소개하기"
      ]
    },
    {
      "cell_type": "markdown",
      "id": "f865521f",
      "metadata": {
        "id": "f865521f"
      },
      "source": [
        "### #파이썬 언어의 분류\n",
        "#### 1. 실행 주체에 따른 분류\n",
        "파이썬은 **고급 언어**이다.\n",
        "\n",
        "#### 2. 실행에 따른 분류\n",
        "파이썬은 **인터프리터 언어**이다."
      ]
    },
    {
      "cell_type": "markdown",
      "id": "0060337e",
      "metadata": {
        "id": "0060337e"
      },
      "source": [
        "---------------------------"
      ]
    },
    {
      "cell_type": "markdown",
      "id": "f1d6a768",
      "metadata": {
        "id": "f1d6a768"
      },
      "source": [
        "## 1-2.파이썬 설치하기"
      ]
    },
    {
      "cell_type": "markdown",
      "id": "b7d367b2",
      "metadata": {
        "id": "b7d367b2"
      },
      "source": [
        "### #파이썬 설치 위치"
      ]
    },
    {
      "cell_type": "code",
      "execution_count": 62,
      "id": "fe832924",
      "metadata": {
        "id": "fe832924",
        "colab": {
          "base_uri": "https://localhost:8080/"
        },
        "outputId": "6fd038c5-0351-46ce-8343-964c0a356acf"
      },
      "outputs": [
        {
          "output_type": "stream",
          "name": "stdout",
          "text": [
            "/usr/bin/python3\n",
            "3.10.6 (main, May 29 2023, 11:10:38) [GCC 11.3.0]\n"
          ]
        }
      ],
      "source": [
        "import sys\n",
        "\n",
        "print(sys.executable) # 파이썬 실행파일 위치\n",
        "\n",
        "print(sys.version)    # 파이썬 버전 출력하기"
      ]
    },
    {
      "cell_type": "markdown",
      "id": "d4eed572",
      "metadata": {
        "id": "d4eed572"
      },
      "source": [
        "### #학습 코드 위치(현재 위치)"
      ]
    },
    {
      "cell_type": "code",
      "execution_count": 3,
      "id": "6abdcb34",
      "metadata": {
        "id": "6abdcb34",
        "colab": {
          "base_uri": "https://localhost:8080/"
        },
        "outputId": "db4f197f-4b9e-486a-a8af-ddde554172ef"
      },
      "outputs": [
        {
          "output_type": "stream",
          "name": "stdout",
          "text": [
            "/content\n"
          ]
        }
      ],
      "source": [
        "import os\n",
        "\n",
        "print( os.getcwd() ) #현재 폴더 경로"
      ]
    },
    {
      "cell_type": "markdown",
      "id": "7dababe2",
      "metadata": {
        "id": "7dababe2"
      },
      "source": [
        "-------------------------"
      ]
    },
    {
      "cell_type": "markdown",
      "id": "48f63310",
      "metadata": {
        "id": "48f63310"
      },
      "source": [
        "## 1-3.코랩 사용하기"
      ]
    },
    {
      "cell_type": "markdown",
      "id": "deba4e7b",
      "metadata": {
        "id": "deba4e7b"
      },
      "source": [
        "### #코랩 사용방법"
      ]
    },
    {
      "cell_type": "markdown",
      "source": [
        "#제목 작성하기"
      ],
      "metadata": {
        "id": "4PM5YoPHPwG-"
      },
      "id": "4PM5YoPHPwG-"
    },
    {
      "cell_type": "markdown",
      "id": "26c7d401",
      "metadata": {
        "id": "26c7d401"
      },
      "source": [
        "# 제목 - 첫 번째 큰 글씨\n",
        "## 제목 - 두 번째 큰 글씨\n",
        "### 제목 - 세 번째 큰 글씨\n",
        "#### 제목 - 네 번째 큰 글씨\n",
        "##### 제목 - 다섯 번째 큰 글씨\n",
        "설명 작성하기"
      ]
    },
    {
      "cell_type": "markdown",
      "id": "98216abf",
      "metadata": {
        "id": "98216abf"
      },
      "source": [
        "#### 2. 코드 작성하고 실행하기"
      ]
    },
    {
      "cell_type": "code",
      "source": [
        "(300 + 30) * 20 / 3"
      ],
      "metadata": {
        "colab": {
          "base_uri": "https://localhost:8080/"
        },
        "id": "Dl0uO5KOQtnN",
        "outputId": "310482ec-c9c5-495c-e610-0321eb042613"
      },
      "id": "Dl0uO5KOQtnN",
      "execution_count": 5,
      "outputs": [
        {
          "output_type": "execute_result",
          "data": {
            "text/plain": [
              "2200.0"
            ]
          },
          "metadata": {},
          "execution_count": 5
        }
      ]
    },
    {
      "cell_type": "code",
      "execution_count": 4,
      "id": "f51bbe87",
      "metadata": {
        "id": "f51bbe87",
        "colab": {
          "base_uri": "https://localhost:8080/"
        },
        "outputId": "b49ec035-6b9a-4442-e9cf-94f3f30473a7"
      },
      "outputs": [
        {
          "output_type": "execute_result",
          "data": {
            "text/plain": [
              "700"
            ]
          },
          "metadata": {},
          "execution_count": 4
        }
      ],
      "source": [
        "300 + 400"
      ]
    },
    {
      "cell_type": "code",
      "execution_count": 9,
      "id": "4b147d79",
      "metadata": {
        "id": "4b147d79",
        "colab": {
          "base_uri": "https://localhost:8080/"
        },
        "outputId": "31683688-349a-4985-e8ef-b2f2ab0083db"
      },
      "outputs": [
        {
          "output_type": "execute_result",
          "data": {
            "text/plain": [
              "900"
            ]
          },
          "metadata": {},
          "execution_count": 9
        }
      ],
      "source": [
        "300 + 400   # 화면에 결과가 출력되지 않습니다.\n",
        "500 + 400   # 주피터 노트북의 맨 마지막 행은 print()함수가 없어도 출력이 된다."
      ]
    },
    {
      "cell_type": "markdown",
      "id": "f4e4e060",
      "metadata": {
        "id": "f4e4e060"
      },
      "source": [
        "-------------------------"
      ]
    },
    {
      "cell_type": "markdown",
      "id": "f1429775",
      "metadata": {
        "id": "f1429775"
      },
      "source": [
        "## 1-4.파이썬 맛보기"
      ]
    },
    {
      "cell_type": "markdown",
      "id": "5a3a6b07",
      "metadata": {
        "id": "5a3a6b07"
      },
      "source": [
        "### #화면에 출력하는 함수 : print( )"
      ]
    },
    {
      "cell_type": "code",
      "execution_count": 10,
      "id": "6cb8ede1",
      "metadata": {
        "id": "6cb8ede1",
        "colab": {
          "base_uri": "https://localhost:8080/"
        },
        "outputId": "3ce03de1-39ae-4f66-b3fe-e0951632e1da"
      },
      "outputs": [
        {
          "output_type": "stream",
          "name": "stdout",
          "text": [
            "700\n",
            "900\n"
          ]
        }
      ],
      "source": [
        "print(300 + 400)\n",
        "print(500 + 400)"
      ]
    },
    {
      "cell_type": "markdown",
      "id": "ad173c5e",
      "metadata": {
        "id": "ad173c5e"
      },
      "source": [
        "### #숫자 계산하기"
      ]
    },
    {
      "cell_type": "code",
      "execution_count": 13,
      "id": "2cf3ca23",
      "metadata": {
        "id": "2cf3ca23",
        "colab": {
          "base_uri": "https://localhost:8080/"
        },
        "outputId": "6dc46bd9-ab8b-43c6-c0a0-4f2506951d71"
      },
      "outputs": [
        {
          "output_type": "execute_result",
          "data": {
            "text/plain": [
              "98345280032954365542838"
            ]
          },
          "metadata": {},
          "execution_count": 13
        }
      ],
      "source": [
        "(2305829582093534958293 + 96039450450860830584545)"
      ]
    },
    {
      "cell_type": "code",
      "execution_count": 15,
      "id": "fc292336",
      "metadata": {
        "id": "fc292336",
        "colab": {
          "base_uri": "https://localhost:8080/",
          "height": 241
        },
        "outputId": "5748bb8c-1614-40f9-b247-40585b8aa793"
      },
      "outputs": [
        {
          "output_type": "error",
          "ename": "NameError",
          "evalue": "ignored",
          "traceback": [
            "\u001b[0;31m---------------------------------------------------------------------------\u001b[0m",
            "\u001b[0;31mNameError\u001b[0m                                 Traceback (most recent call last)",
            "\u001b[0;32m<ipython-input-15-4e88aff4c133>\u001b[0m in \u001b[0;36m<cell line: 3>\u001b[0;34m()\u001b[0m\n\u001b[1;32m      1\u001b[0m \u001b[0;31m# 변수를 이용한 계산\u001b[0m\u001b[0;34m\u001b[0m\u001b[0;34m\u001b[0m\u001b[0m\n\u001b[1;32m      2\u001b[0m \u001b[0ma\u001b[0m \u001b[0;34m=\u001b[0m \u001b[0;36m300\u001b[0m\u001b[0;34m+\u001b[0m\u001b[0;36m400\u001b[0m \u001b[0;31m# 300+400을 계산한 결과를 a라는 변수에 지정한다.\u001b[0m\u001b[0;34m\u001b[0m\u001b[0;34m\u001b[0m\u001b[0m\n\u001b[0;32m----> 3\u001b[0;31m \u001b[0mb\u001b[0m \u001b[0;34m+\u001b[0m \u001b[0;36m500\u001b[0m\u001b[0;34m+\u001b[0m\u001b[0;36m400\u001b[0m \u001b[0;31m# 500+400을 계산한 결과를 b라는 변수에 지정한다.\u001b[0m\u001b[0;34m\u001b[0m\u001b[0;34m\u001b[0m\u001b[0m\n\u001b[0m\u001b[1;32m      4\u001b[0m \u001b[0mprint\u001b[0m\u001b[0;34m(\u001b[0m\u001b[0ma\u001b[0m\u001b[0;34m)\u001b[0m\u001b[0;34m\u001b[0m\u001b[0;34m\u001b[0m\u001b[0m\n\u001b[1;32m      5\u001b[0m \u001b[0mprint\u001b[0m\u001b[0;34m(\u001b[0m\u001b[0mb\u001b[0m\u001b[0;34m)\u001b[0m\u001b[0;34m\u001b[0m\u001b[0;34m\u001b[0m\u001b[0m\n",
            "\u001b[0;31mNameError\u001b[0m: name 'b' is not defined"
          ]
        }
      ],
      "source": [
        "# 변수를 이용한 계산\n",
        "a = 300+400 # 300+400을 계산한 결과를 a라는 변수에 지정한다.\n",
        "b + 500+400 # 500+400을 계산한 결과를 b라는 변수에 지정한다.\n",
        "print(a)\n",
        "print(b)\n",
        "print(2*x + 3*y/2)"
      ]
    },
    {
      "cell_type": "code",
      "source": [
        "x = 4\n",
        "y = x**2 + 2*x / 2\n",
        "print(y)"
      ],
      "metadata": {
        "colab": {
          "base_uri": "https://localhost:8080/"
        },
        "id": "dIziYZj2S7Vv",
        "outputId": "d70f14af-6b66-4cc8-a45f-9ece5ef20e09"
      },
      "id": "dIziYZj2S7Vv",
      "execution_count": 18,
      "outputs": [
        {
          "output_type": "stream",
          "name": "stdout",
          "text": [
            "20.0\n"
          ]
        }
      ]
    },
    {
      "cell_type": "code",
      "execution_count": 38,
      "id": "acfc0e9b",
      "metadata": {
        "id": "acfc0e9b",
        "colab": {
          "base_uri": "https://localhost:8080/"
        },
        "outputId": "f7b3f449-a7fa-4e1a-ddf8-344d05d85860"
      },
      "outputs": [
        {
          "output_type": "stream",
          "name": "stdout",
          "text": [
            "3.141592653589793\n",
            "2\n",
            "24\n",
            "5\n"
          ]
        }
      ],
      "source": [
        "# math 라이브러리를 이용한 수학\n",
        "import math\n",
        "\n",
        "print(  math.pi)   # 파이\n",
        "print( math.gcd(6, 8))     # 최대공약수\n",
        "print( math.lcm(6,8))     # 최소공배수\n",
        "print( math.gcd (5))      # 몰라."
      ]
    },
    {
      "cell_type": "markdown",
      "id": "a4c37be4",
      "metadata": {
        "id": "a4c37be4"
      },
      "source": [
        "### #문자열 출력하기\n",
        "문자열은 **작은따옴표('')** 또는 **큰따옴표(\"\")** 둘 중에 아무거나 사용 가능합니다."
      ]
    },
    {
      "cell_type": "code",
      "execution_count": 41,
      "id": "2b581266",
      "metadata": {
        "id": "2b581266",
        "colab": {
          "base_uri": "https://localhost:8080/"
        },
        "outputId": "e037b91f-38ae-442a-d439-dd8829899d19"
      },
      "outputs": [
        {
          "output_type": "stream",
          "name": "stdout",
          "text": [
            "나는 OO중학교/O학년/O반/OOO 학생입니다.\n",
            "300 + 400\n",
            "300 + 400\n",
            "900\n"
          ]
        }
      ],
      "source": [
        "#자신의 학교/학년/반/이름 출력하기\n",
        "print(\"나는 OO중학교/O학년/O반/OOO 학생입니다.\")\n",
        "print('300 + 400')\n",
        "\n",
        "a = '300 + 400'     # 따움표 안에 있는 내용은 있는 그대로 출력한다.\n",
        "b = 500 + 400\n",
        "print(a)\n",
        "print(b)"
      ]
    },
    {
      "cell_type": "markdown",
      "id": "687fa042",
      "metadata": {
        "id": "687fa042"
      },
      "source": [
        "##### 문자열에 '*' 곱하기 기호를 사용하면 문자열을 반복한다"
      ]
    },
    {
      "cell_type": "code",
      "execution_count": 48,
      "id": "7c1df6c8",
      "metadata": {
        "scrolled": false,
        "id": "7c1df6c8",
        "colab": {
          "base_uri": "https://localhost:8080/"
        },
        "outputId": "e9ee77f7-c8eb-4854-f938-37a778873e09"
      },
      "outputs": [
        {
          "output_type": "stream",
          "name": "stdout",
          "text": [
            "점심점심점심점심점심\n",
            "----------\n",
            "점심시간입니다.\n",
            "점심 시간입니다.\n"
          ]
        }
      ],
      "source": [
        "# 문자열 반복하기\n",
        "print('점심' * 5)\n",
        "print('----------')\n",
        "\n",
        "# 문자열 붙이기 : *, ,(쉽표) 기호 사용\n",
        "print('점심' + '시간입니다.')\n",
        "# ',(tnlqvy) 기호\n",
        "print('점심','시간입니다.')"
      ]
    },
    {
      "cell_type": "code",
      "source": [
        "print('너무','반짝반짝','눈이','부셔','NoNoNoNoNo')\n",
        "print(\"너무 반짝반짝 눈이 부셔 NoNoNoNoNo\")"
      ],
      "metadata": {
        "colab": {
          "base_uri": "https://localhost:8080/"
        },
        "id": "eFDGb0-gnmPT",
        "outputId": "01f9604f-efce-494f-d8b6-b95f6292a902"
      },
      "id": "eFDGb0-gnmPT",
      "execution_count": 52,
      "outputs": [
        {
          "output_type": "stream",
          "name": "stdout",
          "text": [
            "너무 반짝반짝 눈이 부셔 NoNoNoNoNo\n",
            "너무 반짝반짝 눈이 부셔 NoNoNoNoNo\n"
          ]
        }
      ]
    },
    {
      "cell_type": "markdown",
      "id": "11668415",
      "metadata": {
        "id": "11668415"
      },
      "source": [
        "### #주석표시\n",
        "**주석** : 코드에서 실행되지는 않지만 사람이 이해할 수 있도록 설명하는 문장\n",
        "- **#** 문장 앞에 이 기호를 사용\n",
        "- **작은따옴표(''' ''')** 또는 **큰따옴표(\"\"\" \"\"\")** 를 세개 사용하는 경우는 주석표시로 사용된다."
      ]
    },
    {
      "cell_type": "code",
      "execution_count": 55,
      "id": "d0b4d454",
      "metadata": {
        "id": "d0b4d454",
        "colab": {
          "base_uri": "https://localhost:8080/",
          "height": 36
        },
        "outputId": "f6fc900f-fd6b-4892-d707-b2e1cce1ac3f"
      },
      "outputs": [
        {
          "output_type": "execute_result",
          "data": {
            "text/plain": [
              "'이것은 주석입니다.\\n이것도 주석입니다.\\n문장이 긴 내용을 주석 처리할 수 있습니다.'"
            ],
            "application/vnd.google.colaboratory.intrinsic+json": {
              "type": "string"
            }
          },
          "metadata": {},
          "execution_count": 55
        }
      ],
      "source": [
        "# 이것은 주석입니다.\n",
        "# '이것은 문자열' or '이것은 문자열'\n",
        "\n",
        "\"\"\"이것은 주석입니다.\n",
        "이것도 주석입니다.\n",
        "문장이 긴 내용을 주석 처리할 수 있습니다.\"\"\"\n"
      ]
    },
    {
      "cell_type": "markdown",
      "id": "c9d7d654",
      "metadata": {
        "id": "c9d7d654"
      },
      "source": [
        "----------------------------"
      ]
    },
    {
      "cell_type": "markdown",
      "id": "96f14fe3",
      "metadata": {
        "id": "96f14fe3"
      },
      "source": [
        "## [미션] :  코랩에서 파이썬 정보 확인하기"
      ]
    },
    {
      "cell_type": "markdown",
      "id": "9781cc96",
      "metadata": {
        "id": "9781cc96"
      },
      "source": [
        "### #우리가 사용하는 파이썬 버전 확인하기"
      ]
    },
    {
      "cell_type": "code",
      "execution_count": 66,
      "id": "ebdbd150",
      "metadata": {
        "id": "ebdbd150",
        "colab": {
          "base_uri": "https://localhost:8080/"
        },
        "outputId": "a64ec956-2992-4d55-9695-9d1f077fa1aa"
      },
      "outputs": [
        {
          "output_type": "stream",
          "name": "stdout",
          "text": [
            "3.10.6 (main, May 29 2023, 11:10:38) [GCC 11.3.0]\n"
          ]
        }
      ],
      "source": [
        "import sys\n",
        "print(sys.version)"
      ]
    },
    {
      "cell_type": "markdown",
      "id": "368431c0",
      "metadata": {
        "id": "368431c0"
      },
      "source": [
        "### #파이썬 실행파일 위치 확인하기"
      ]
    },
    {
      "cell_type": "code",
      "execution_count": 67,
      "id": "60158dc2",
      "metadata": {
        "id": "60158dc2",
        "colab": {
          "base_uri": "https://localhost:8080/"
        },
        "outputId": "6ddf0f83-1d3c-4694-a628-82023e057968"
      },
      "outputs": [
        {
          "output_type": "stream",
          "name": "stdout",
          "text": [
            "/usr/bin/python3\n"
          ]
        }
      ],
      "source": [
        "import sys\n",
        "print(sys.executable)"
      ]
    },
    {
      "cell_type": "markdown",
      "id": "a446c706",
      "metadata": {
        "id": "a446c706"
      },
      "source": [
        "------------------------------------------"
      ]
    },
    {
      "cell_type": "markdown",
      "id": "416d36fc",
      "metadata": {
        "id": "416d36fc"
      },
      "source": [
        "끝"
      ]
    }
  ],
  "metadata": {
    "kernelspec": {
      "display_name": "Python 3 (ipykernel)",
      "language": "python",
      "name": "python3"
    },
    "language_info": {
      "codemirror_mode": {
        "name": "ipython",
        "version": 3
      },
      "file_extension": ".py",
      "mimetype": "text/x-python",
      "name": "python",
      "nbconvert_exporter": "python",
      "pygments_lexer": "ipython3",
      "version": "3.10.9"
    },
    "vscode": {
      "interpreter": {
        "hash": "b41e41bff03a930185ac2cbea60ce521f7c8c2f5401ceb5c30214081f77ab4f5"
      }
    },
    "colab": {
      "provenance": [],
      "include_colab_link": true
    }
  },
  "nbformat": 4,
  "nbformat_minor": 5
}